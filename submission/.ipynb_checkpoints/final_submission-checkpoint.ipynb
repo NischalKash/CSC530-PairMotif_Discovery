{
 "cells": [
  {
   "cell_type": "code",
   "execution_count": 1,
   "metadata": {},
   "outputs": [
    {
     "name": "stderr",
     "output_type": "stream",
     "text": [
      "\u001b[32m\u001b[1m   Updating\u001b[22m\u001b[39m registry at `~/.julia/registries/General`\n",
      "\u001b[32m\u001b[1m  Resolving\u001b[22m\u001b[39m package versions...\n",
      "\u001b[32m\u001b[1mNo Changes\u001b[22m\u001b[39m to `~/.julia/environments/v1.5/Project.toml`\n",
      "\u001b[32m\u001b[1mNo Changes\u001b[22m\u001b[39m to `~/.julia/environments/v1.5/Manifest.toml`\n",
      "\u001b[32m\u001b[1m  Resolving\u001b[22m\u001b[39m package versions...\n",
      "\u001b[32m\u001b[1mNo Changes\u001b[22m\u001b[39m to `~/.julia/environments/v1.5/Project.toml`\n",
      "\u001b[32m\u001b[1mNo Changes\u001b[22m\u001b[39m to `~/.julia/environments/v1.5/Manifest.toml`\n"
     ]
    }
   ],
   "source": [
    "import Pkg\n",
    "Pkg.add(\"Combinatorics\")\n",
    "Pkg.add(\"Plots\")\n",
    "\n",
    "using Random\n",
    "using Combinatorics\n",
    "using Plots"
   ]
  },
  {
   "cell_type": "code",
   "execution_count": 2,
   "metadata": {},
   "outputs": [
    {
     "data": {
      "text/plain": [
       "apriori (generic function with 1 method)"
      ]
     },
     "execution_count": 2,
     "metadata": {},
     "output_type": "execute_result"
    }
   ],
   "source": [
    "\n",
    "function apriori(motifs)\n",
    "    if length(motifs)==0\n",
    "        return []\n",
    "    end\n",
    "    index_count = 1\n",
    "    while index_count<=length(motifs[1])\n",
    "        dict = Dict()\n",
    "        total_length = length(motifs)\n",
    "        for i in 1:length(motifs)\n",
    "            if haskey(dict,motifs[i][1:index_count])\n",
    "                dict[motifs[i][1:index_count]]+=1\n",
    "            else\n",
    "                dict[motifs[i][1:index_count]]=1\n",
    "            end\n",
    "        end\n",
    "        new_list = []\n",
    "        keys_values = keys(dict)\n",
    "        condition = false\n",
    "        for i in keys_values\n",
    "            consideration_val = dict[i]/total_length\n",
    "            if consideration_val>1/total_length\n",
    "                condition = true\n",
    "                for all in 1:length(motifs)\n",
    "                    if motifs[all][1:index_count]==i\n",
    "                        push!(new_list,motifs[all])\n",
    "                    end\n",
    "                end\n",
    "            end\n",
    "        end\n",
    "        if condition==false\n",
    "            return motifs\n",
    "        end\n",
    "        motifs = new_list\n",
    "        index_count+=1\n",
    "    end\n",
    "    return motifs\n",
    "end"
   ]
  },
  {
   "cell_type": "code",
   "execution_count": 3,
   "metadata": {},
   "outputs": [
    {
     "data": {
      "text/plain": [
       "d_hamm (generic function with 1 method)"
      ]
     },
     "execution_count": 3,
     "metadata": {},
     "output_type": "execute_result"
    }
   ],
   "source": [
    "function d_hamm(x,x1)\n",
    "    i=1\n",
    "    count = 0\n",
    "    while i<=length(x)\n",
    "        if x[i]!=x1[i]\n",
    "            count+=1\n",
    "        end\n",
    "        i+=1\n",
    "    end\n",
    "    return count\n",
    "end"
   ]
  },
  {
   "cell_type": "code",
   "execution_count": 4,
   "metadata": {},
   "outputs": [
    {
     "data": {
      "text/plain": [
       "get_C (generic function with 1 method)"
      ]
     },
     "execution_count": 4,
     "metadata": {},
     "output_type": "execute_result"
    }
   ],
   "source": [
    "function get_C(x, dna, d)\n",
    "    Cxsi = Dict()\n",
    "    t = length(dna)\n",
    "    l = length(dna[1])\n",
    "    k = length(x)\n",
    "    for i in 2:t\n",
    "        C = Array[]\n",
    "        for j in 1:(l-k+1)\n",
    "            xp = dna[i][j:j+k-1]\n",
    "            if d_hamm(x,xp) <= 2*d\n",
    "               push!(C, [xp,j])\n",
    "            end\n",
    "        end\n",
    "        Cxsi[i] = C\n",
    "    end\n",
    "    return Cxsi\n",
    "end"
   ]
  },
  {
   "cell_type": "code",
   "execution_count": 5,
   "metadata": {},
   "outputs": [
    {
     "data": {
      "text/plain": [
       "filter1 (generic function with 1 method)"
      ]
     },
     "execution_count": 5,
     "metadata": {},
     "output_type": "execute_result"
    }
   ],
   "source": [
    "function filter1(x, xp, z, d)\n",
    "    d1 = 0\n",
    "    d2 = 0\n",
    "    for i in 1:length(z)\n",
    "        if x[i] != z[i]\n",
    "            d1 += 1\n",
    "        end\n",
    "        if xp[i] != z[i]\n",
    "            d2 += 1\n",
    "        end\n",
    "    end\n",
    "    if d1 > 2*d || d2 > 2*d\n",
    "       return false\n",
    "    end\n",
    "    return true\n",
    "end"
   ]
  },
  {
   "cell_type": "code",
   "execution_count": 6,
   "metadata": {},
   "outputs": [
    {
     "data": {
      "text/plain": [
       "p_val (generic function with 1 method)"
      ]
     },
     "execution_count": 6,
     "metadata": {},
     "output_type": "execute_result"
    }
   ],
   "source": [
    "function p_val(x,x1,z,d)\n",
    "    i = 1\n",
    "    count1 = 0\n",
    "    count2 = 0\n",
    "    while i<=length(x)\n",
    "        if x[i]==x1[i]\n",
    "            if z[i]!=x[i] || z[i]!=x1[i]\n",
    "                count1+=1\n",
    "            end\n",
    "        else\n",
    "            if z[i]!=x[i]  || z[i]!=x1[i]\n",
    "                count2+=1\n",
    "            end\n",
    "        end\n",
    "        i+=1\n",
    "    end\n",
    "    return [count1,count2]\n",
    "end"
   ]
  },
  {
   "cell_type": "code",
   "execution_count": 7,
   "metadata": {},
   "outputs": [
    {
     "data": {
      "text/plain": [
       "filter2 (generic function with 1 method)"
      ]
     },
     "execution_count": 7,
     "metadata": {},
     "output_type": "execute_result"
    }
   ],
   "source": [
    "function filter2(x,x1,z,d)\n",
    "    alpha_range = length(x)-d_hamm(x,x1)\n",
    "    beta_range = d_hamm(x,x1)\n",
    "\n",
    "    p_values = p_val(x,x1,z,d)\n",
    "\n",
    "    for i in 0:alpha_range\n",
    "        for j in 0:beta_range\n",
    "            k = 2*i+j+d_hamm(x,x1)\n",
    "            if k<=2*d\n",
    "                if abs(p_values[1]-i)+abs(p_values[2]-j)<=d\n",
    "                    return true\n",
    "                end\n",
    "            end\n",
    "        end\n",
    "    end\n",
    "    return false\n",
    "end"
   ]
  },
  {
   "cell_type": "code",
   "execution_count": 8,
   "metadata": {},
   "outputs": [
    {
     "data": {
      "text/plain": [
       "get_all_md_kmers (generic function with 1 method)"
      ]
     },
     "execution_count": 8,
     "metadata": {},
     "output_type": "execute_result"
    }
   ],
   "source": [
    "function get_all_md_kmers(x, xp, d, ch, k, Md)\n",
    "    push!(Md, x)\n",
    "    push!(Md, xp)\n",
    "\n",
    "    pos = collect(combinations(1:k, d))\n",
    "\n",
    "    for p in pos\n",
    "        curr = []\n",
    "        for p_i in p\n",
    "            push!(curr, x[p_i])\n",
    "        end\n",
    "        rem_neucleo = []\n",
    "        for c in curr\n",
    "            nucleo = copy(ch)\n",
    "            push!(rem_neucleo, deleteat!(nucleo, findfirst(nucleo.==c)))\n",
    "        end\n",
    "\n",
    "        prods = Base.Iterators.product(1)\n",
    "        for d_i in 1:d\n",
    "            prods = Base.Iterators.product(prods, rem_neucleo[d_i])\n",
    "        end\n",
    "\n",
    "        for prod in prods\n",
    "            for d_i in 1:d\n",
    "                prod = Tuple(Iterators.flatten(prod))\n",
    "            end\n",
    "            prod = prod[2:end]\n",
    "            seq = x\n",
    "            i = 1\n",
    "            for p_i in p\n",
    "                seq = seq[1:p_i-1] * prod[i] * seq[p_i+1:end]\n",
    "                if d_hamm(seq, x) <= d && d_hamm(seq, xp) <= d\n",
    "                    push!(Md, seq)\n",
    "                end\n",
    "                i += 1\n",
    "            end\n",
    "        end\n",
    "    end\n",
    "end"
   ]
  },
  {
   "cell_type": "code",
   "execution_count": 9,
   "metadata": {},
   "outputs": [
    {
     "data": {
      "text/plain": [
       "verify (generic function with 1 method)"
      ]
     },
     "execution_count": 9,
     "metadata": {},
     "output_type": "execute_result"
    }
   ],
   "source": [
    "function verify(y, Cp, r, d)\n",
    "    final_dict = Dict()\n",
    "    for (i, C) in Cp\n",
    "        valid = false\n",
    "        if i != r\n",
    "            for yi in C\n",
    "                if d_hamm(y, yi[1]) <= d\n",
    "                    final_dict[i] = [yi[1],yi[2]]\n",
    "                    valid = true\n",
    "                    break\n",
    "                end\n",
    "            end\n",
    "            if !valid\n",
    "                return [false,[]]\n",
    "            end\n",
    "        end\n",
    "    end\n",
    "    return [true,final_dict]\n",
    "end"
   ]
  },
  {
   "cell_type": "code",
   "execution_count": 10,
   "metadata": {},
   "outputs": [
    {
     "data": {
      "text/plain": [
       "pairmotif (generic function with 1 method)"
      ]
     },
     "execution_count": 10,
     "metadata": {},
     "output_type": "execute_result"
    }
   ],
   "source": [
    "function pairmotif(dna, k, d_thres)\n",
    "    s1 = dna[1]\n",
    "    M = []\n",
    "    motif_positions = Dict()\n",
    "    for i in 1:length(dna[1]) - k + 1\n",
    "        x = dna[1][i:i+k-1]\n",
    "        Cxsi = get_C(x, dna, d_thres)\n",
    "        r = rand(2:length(dna))\n",
    "        sr = dna[r]\n",
    "        Cxsr = Cxsi[r]\n",
    "        Md = Dict()\n",
    "        for xp in Cxsr\n",
    "            pair = (x, xp[1])\n",
    "            Md[pair] = []\n",
    "            get_all_md_kmers(x, xp[1], d_thres, ['A','T','G','C'], k, Md[pair])\n",
    "\n",
    "            Cpxsi = Dict()\n",
    "            for zi in 2:length(dna)\n",
    "                if zi != r\n",
    "                    Cpxsi[zi] = []\n",
    "                    for z in Cxsi[zi]\n",
    "                        if filter1(x, xp[1], z[1], d_thres) && filter2(x, xp[1], z[1], d_thres)\n",
    "                            push!(Cpxsi[zi], [z[1],z[2]])\n",
    "                        end\n",
    "                    end\n",
    "                end\n",
    "            end\n",
    "            for y in Md[pair]\n",
    "                verification_results = verify(y, Cpxsi, r, d_thres)\n",
    "                if verification_results[1] == true\n",
    "                    if !(y in M)\n",
    "                        push!(M, y)\n",
    "                        verification_results[2][1] = [pair[1],i]\n",
    "                        verification_results[2][r] = [pair[2],xp[2]]\n",
    "                        motif_positions[y] = verification_results[2]\n",
    "                    end\n",
    "                end\n",
    "            end\n",
    "\n",
    "        end\n",
    "    end\n",
    "    return M, motif_positions\n",
    "end"
   ]
  },
  {
   "cell_type": "code",
   "execution_count": 14,
   "metadata": {},
   "outputs": [
    {
     "data": {
      "text/plain": [
       "Dict{Any,Any} with 8 entries:\n",
       "  \"TTGACCGTA\" => Dict{Any,Any}(4=>Any[\"TTGACCGTC\", 10],2=>Any[\"TTGACCGTG\", 56],…\n",
       "  \"ATTGACCGC\" => Dict{Any,Any}(4=>Any[\"ATTGACCGT\", 9],2=>Any[\"ATTGACCGT\", 55],3…\n",
       "  \"ATTGACCGA\" => Dict{Any,Any}(4=>Any[\"ATTGACCGT\", 9],2=>Any[\"ATTGACCGT\", 55],3…\n",
       "  \"ATTGACCGG\" => Dict{Any,Any}(4=>Any[\"ATTGACCGT\", 9],2=>Any[\"ATTGACCGT\", 55],3…\n",
       "  \"TTGACCGTC\" => Dict{Any,Any}(4=>Any[\"TTGACCGTC\", 10],2=>Any[\"TTGACCGTG\", 56],…\n",
       "  \"TTGACCGTG\" => Dict{Any,Any}(4=>Any[\"TTGACCGTC\", 10],2=>Any[\"TTGACCGTG\", 56],…\n",
       "  \"ATTGACCGT\" => Dict{Any,Any}(4=>Any[\"ATTGACCGT\", 9],2=>Any[\"ATTGACCGT\", 55],3…\n",
       "  \"TTGACCGTT\" => Dict{Any,Any}(4=>Any[\"TTGACCGTC\", 10],2=>Any[\"TTGACCGTG\", 56],…"
      ]
     },
     "execution_count": 14,
     "metadata": {},
     "output_type": "execute_result"
    }
   ],
   "source": [
    "lines = []\n",
    "open(\"motif_input1.txt\") do f\n",
    "  while ! eof(f)\n",
    "     s = readline(f)\n",
    "     push!(lines,s)\n",
    "  end\n",
    "end\n",
    "\n",
    "motif_length = parse(Int64,lines[1])\n",
    "\n",
    "t=5\n",
    "l=100\n",
    "k=motif_length\n",
    "d=1\n",
    "\n",
    "dnas = []\n",
    "push!(dnas,lines[3])\n",
    "push!(dnas,lines[5])\n",
    "push!(dnas,lines[7])\n",
    "push!(dnas,lines[9])\n",
    "push!(dnas,lines[11])\n",
    "(motifs, motif_positions) = pairmotif(dnas, k, d)\n",
    "\n",
    "apriori_motifs = apriori(motifs)\n",
    "new_motif_positions = Dict()\n",
    "for i in apriori_motifs\n",
    "    new_motif_positions[i] = motif_positions[i]\n",
    "end\n",
    "\n",
    "motifs = apriori_motifs\n",
    "motif_positions = new_motif_positions"
   ]
  },
  {
   "cell_type": "code",
   "execution_count": 15,
   "metadata": {},
   "outputs": [],
   "source": [
    "strand1 = []\n",
    "strand2 = []\n",
    "strand3 = []\n",
    "strand4 = []\n",
    "strand5 = []\n",
    "\n",
    "for i in motif_positions\n",
    "    for j in i[2]\n",
    "        if j[1]==1\n",
    "            push!(strand1,j[2][1])\n",
    "        end\n",
    "        if j[1]==2\n",
    "            push!(strand2,j[2][1])\n",
    "        end\n",
    "        if j[1]==3\n",
    "            push!(strand3,j[2][1])\n",
    "        end\n",
    "        if j[1]==4\n",
    "            push!(strand4,j[2][1])\n",
    "        end\n",
    "        if j[1]==5\n",
    "            push!(strand5,j[2][1])\n",
    "        end\n",
    "    end\n",
    "end\n",
    "\n",
    "position_strand1 = []\n",
    "position_strand2 = []\n",
    "position_strand3 = []\n",
    "position_strand4 = []\n",
    "position_strand5 = []\n",
    "\n",
    "for i in motif_positions\n",
    "    motif_name = i[1]\n",
    "    for j in i[2]\n",
    "        if j[1] == 1\n",
    "            if !(j[2][2] in position_strand1)\n",
    "                push!(position_strand1,j[2][2])\n",
    "            end\n",
    "        end\n",
    "        if j[1] == 2\n",
    "            if !(j[2][2] in position_strand2)\n",
    "                push!(position_strand2,j[2][2])\n",
    "            end\n",
    "        end\n",
    "        if j[1] == 3\n",
    "            if !(j[2][2] in position_strand3)\n",
    "                push!(position_strand3,j[2][2])\n",
    "            end\n",
    "        end\n",
    "        if j[1] == 4\n",
    "            if !(j[2][2] in position_strand4)\n",
    "                push!(position_strand4,j[2][2])\n",
    "            end\n",
    "        end\n",
    "        if j[1] == 5\n",
    "            if !(j[2][2] in position_strand5)\n",
    "                push!(position_strand5,j[2][2])\n",
    "            end\n",
    "        end\n",
    "    end\n",
    "end"
   ]
  },
  {
   "cell_type": "code",
   "execution_count": 16,
   "metadata": {},
   "outputs": [
    {
     "name": "stdout",
     "output_type": "stream",
     "text": [
      "Completed\n"
     ]
    }
   ],
   "source": [
    "open(\"motif_output1.txt\",\"w\") do io\n",
    "   println(io,\"Start positions of motifs in each strand are as follows\")\n",
    "   println(io,\"In strand1\")\n",
    "   for i in position_strand1\n",
    "    print(io,\"$i,\")\n",
    "   end\n",
    "    println(io,\"\")\n",
    "   println(io,\"In strand2\")\n",
    "   for i in position_strand2\n",
    "    print(io,\"$i,\")\n",
    "   end\n",
    "    println(io,\"\")\n",
    "   println(io,\"In strand3\")\n",
    "   for i in position_strand3\n",
    "    print(io,\"$i,\")\n",
    "   end\n",
    "    println(io,\"\")\n",
    "   println(io,\"In strand4\")\n",
    "   for i in position_strand4\n",
    "    print(io,\"$i,\")\n",
    "   end\n",
    "    println(io,\"\")\n",
    "   println(io,\"In strand5\")\n",
    "   for i in position_strand5\n",
    "    print(io,\"$i,\")\n",
    "   end\n",
    "    println(io,\"\")\n",
    "    println(io,\"\")\n",
    "   println(io,\"Consensus Motifs : \")\n",
    "   for i in motifs\n",
    "    println(io,\"$i\")\n",
    "   end\n",
    "   println(io,\"\")\n",
    "   println(io,\"Motifs:\")\n",
    "   println(io,\"S1 : \")\n",
    "   for i in strand1\n",
    "        println(io,\"$i\")\n",
    "   end\n",
    "   println(io,\"\")\n",
    "   println(io,\"S2 : \")\n",
    "   for i in strand2\n",
    "        println(io,\"$i\")\n",
    "   end\n",
    "   println(io,\"\")\n",
    "   println(io,\"S3 : \")\n",
    "   for i in strand3\n",
    "        println(io,\"$i\")\n",
    "   end\n",
    "   println(io,\"\")\n",
    "   println(io,\"S4 : \")\n",
    "   for i in strand4\n",
    "        println(io,\"$i\")\n",
    "   end\n",
    "   println(io,\"\")\n",
    "   println(io,\"S5 : \")\n",
    "   for i in strand5\n",
    "        println(io,\"$i\")\n",
    "   end\n",
    "end"
   ]
  },
  {
   "cell_type": "code",
   "execution_count": null,
   "metadata": {},
   "outputs": [],
   "source": []
  }
 ],
 "metadata": {
  "kernelspec": {
   "display_name": "Julia 1.5.1",
   "language": "julia",
   "name": "julia-1.5"
  },
  "language_info": {
   "file_extension": ".jl",
   "mimetype": "application/julia",
   "name": "julia",
   "version": "1.5.1"
  }
 },
 "nbformat": 4,
 "nbformat_minor": 2
}
