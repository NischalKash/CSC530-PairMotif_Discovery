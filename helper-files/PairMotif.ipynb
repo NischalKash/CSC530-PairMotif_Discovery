{
 "cells": [
  {
   "cell_type": "code",
   "execution_count": 104,
   "metadata": {},
   "outputs": [],
   "source": [
    "using Random"
   ]
  },
  {
   "cell_type": "markdown",
   "metadata": {},
   "source": [
    "## Generate Random Sequences"
   ]
  },
  {
   "cell_type": "code",
   "execution_count": 115,
   "metadata": {},
   "outputs": [
    {
     "data": {
      "text/plain": [
       "Arti_DNA (generic function with 1 method)"
      ]
     },
     "execution_count": 115,
     "metadata": {},
     "output_type": "execute_result"
    }
   ],
   "source": [
    "function Arti_DNA(t, l, k, m, gc)  \n",
    "    DNA = []\n",
    "    for i in 1:t\n",
    "        rand_str = randstring(\"AT\", 100-gc)*randstring(\"GC\", gc)\n",
    "        seq = randstring(rand_str, l)\n",
    "        push!(DNA, seq)\n",
    "    end\n",
    "    #This might get lost in background. Should probably not make this random\n",
    "    #motif = randstring(\"ACGT\", k)\n",
    "    motif = \"AAAAAAAA\"\n",
    "    position = []\n",
    "    for i in 1:t\n",
    "        rand_num = rand([i for i = 1:l], m)\n",
    "        r = sort(rand_num)\n",
    "        p = []\n",
    "        for n in 1:m\n",
    "            DNA[i] = DNA[i][1:r[n]+k*(n-1)]*motif*DNA[i][r[n]+k*(n-1)+1:l+k*(n-1)]\n",
    "            push!(p, r[n]+k*(n-1)+1)\n",
    "        end\n",
    "        push!(position, p)\n",
    "    end\n",
    "    return(position, motif, DNA)\n",
    "end"
   ]
  },
  {
   "cell_type": "code",
   "execution_count": 125,
   "metadata": {},
   "outputs": [
    {
     "data": {
      "text/plain": [
       "(Any[Any[17], Any[20], Any[6], Any[12]], \"AAAAAAAA\", Any[\"AGTGACATTCAGACATAAAAAAAAGCCT\", \"TTAACCCCAAAGGAGCATCAAAAAAAAC\", \"GCTTTAAAAAAAAAGGGAACCGACTTGT\", \"GCTATTTAAATAAAAAAAAACCAGCTTC\"])"
      ]
     },
     "execution_count": 125,
     "metadata": {},
     "output_type": "execute_result"
    }
   ],
   "source": [
    "t = 4\n",
    "l = 20\n",
    "k = 8\n",
    "m = 1\n",
    "gc = 41\n",
    "(positions, motif, dna) = Arti_DNA(t, l, k, m, gc)\n",
    "#dna = [\"ATAAT\",\"ATAAT\",\"ATAAT\"]"
   ]
  },
  {
   "cell_type": "markdown",
   "metadata": {},
   "source": [
    "## Pair Motif"
   ]
  },
  {
   "cell_type": "code",
   "execution_count": 117,
   "metadata": {},
   "outputs": [
    {
     "data": {
      "text/plain": [
       "d_hamm (generic function with 1 method)"
      ]
     },
     "execution_count": 117,
     "metadata": {},
     "output_type": "execute_result"
    }
   ],
   "source": [
    "function d_hamm(x,x1)\n",
    "    i=1\n",
    "    count = 0\n",
    "    while i<=length(x)\n",
    "        if x[i]!=x1[i]\n",
    "            count+=1\n",
    "        end\n",
    "        i+=1\n",
    "    end\n",
    "    return count\n",
    "end"
   ]
  },
  {
   "cell_type": "code",
   "execution_count": 118,
   "metadata": {},
   "outputs": [
    {
     "data": {
      "text/plain": [
       "get_C (generic function with 1 method)"
      ]
     },
     "execution_count": 118,
     "metadata": {},
     "output_type": "execute_result"
    }
   ],
   "source": [
    "function get_C(x, dna, d)\n",
    "    Cxsi = Dict()\n",
    "    t = length(dna)\n",
    "    l = length(dna[1])\n",
    "    k = length(x)\n",
    "    for i in 2:t\n",
    "        C = Array[]\n",
    "        for j in 1:(l-k+1)\n",
    "            xp = dna[i][j:j+k-1]\n",
    "            if d_hamm(x,xp) <= 2*d\n",
    "               push!(C, [xp,j])\n",
    "            end\n",
    "        end\n",
    "        Cxsi[i] = C\n",
    "    end\n",
    "    return Cxsi\n",
    "end"
   ]
  },
  {
   "cell_type": "code",
   "execution_count": 119,
   "metadata": {},
   "outputs": [
    {
     "data": {
      "text/plain": [
       "filter1 (generic function with 1 method)"
      ]
     },
     "execution_count": 119,
     "metadata": {},
     "output_type": "execute_result"
    }
   ],
   "source": [
    "function filter1(x, xp, z, d)\n",
    "    d1 = 0\n",
    "    d2 = 0\n",
    "    for i in 1:length(z)\n",
    "        if x[i] != z[i]\n",
    "            d1 += 1\n",
    "        end\n",
    "        if xp[i] != z[i]\n",
    "            d2 += 1\n",
    "        end\n",
    "    end\n",
    "    if d1 > 2*d || d2 > 2*d\n",
    "       return false \n",
    "    end\n",
    "    return true\n",
    "end"
   ]
  },
  {
   "cell_type": "code",
   "execution_count": 120,
   "metadata": {},
   "outputs": [
    {
     "data": {
      "text/plain": [
       "p_val (generic function with 1 method)"
      ]
     },
     "execution_count": 120,
     "metadata": {},
     "output_type": "execute_result"
    }
   ],
   "source": [
    "function p_val(x,x1,z,d)\n",
    "    i = 1\n",
    "    count1 = 0\n",
    "    count2 = 0\n",
    "    while i<=length(x)\n",
    "        if x[i]==x1[i]\n",
    "            if z[i]!=x[i] || z[i]!=x1[i]\n",
    "                count1+=1\n",
    "            end\n",
    "        else\n",
    "            if z[i]!=x[i]  || z[i]!=x1[i]\n",
    "                count2+=1\n",
    "            end\n",
    "        end\n",
    "        i+=1\n",
    "    end\n",
    "    return [count1,count2]\n",
    "end"
   ]
  },
  {
   "cell_type": "code",
   "execution_count": 121,
   "metadata": {},
   "outputs": [
    {
     "data": {
      "text/plain": [
       "filter2 (generic function with 1 method)"
      ]
     },
     "execution_count": 121,
     "metadata": {},
     "output_type": "execute_result"
    }
   ],
   "source": [
    "function filter2(x,x1,z,d)\n",
    "    alpha_range = length(x)-d_hamm(x,x1)\n",
    "    beta_range = d_hamm(x,x1)\n",
    "\n",
    "    p_values = p_val(x,x1,z,d)\n",
    "\n",
    "    for i in 0:alpha_range\n",
    "        for j in 0:beta_range\n",
    "            k = 2*i+j+d_hamm(x,x1)\n",
    "            if k<=2*d\n",
    "                if abs(p_values[1]-i)+abs(p_values[2]-j)<=d\n",
    "                    return true\n",
    "                end\n",
    "            end\n",
    "        end\n",
    "    end\n",
    "    return false\n",
    "end"
   ]
  },
  {
   "cell_type": "code",
   "execution_count": 122,
   "metadata": {},
   "outputs": [
    {
     "data": {
      "text/plain": [
       "get_all_md_kmers (generic function with 1 method)"
      ]
     },
     "execution_count": 122,
     "metadata": {},
     "output_type": "execute_result"
    }
   ],
   "source": [
    "function get_all_md_kmers(x, xp, d, ch, seq, k, Md)\n",
    "    if k == 0\n",
    "        if d_hamm(seq, x) <= d && d_hamm(seq, xp) <= d\n",
    "            push!(Md, seq)\n",
    "        end\n",
    "        return\n",
    "    end\n",
    "    \n",
    "    for i in 1:length(ch)\n",
    "        nseq = \"\"\n",
    "        nseq = seq * ch[i]\n",
    "        get_all_md_kmers(x, xp, d, ch, nseq, k - 1, Md)\n",
    "    end\n",
    "end"
   ]
  },
  {
   "cell_type": "code",
   "execution_count": 123,
   "metadata": {},
   "outputs": [
    {
     "data": {
      "text/plain": [
       "verify (generic function with 1 method)"
      ]
     },
     "execution_count": 123,
     "metadata": {},
     "output_type": "execute_result"
    }
   ],
   "source": [
    "function verify(y, Cp, r, d)\n",
    "    final_dict = Dict()\n",
    "    for (i, C) in Cp\n",
    "        valid = false\n",
    "        if i != r\n",
    "            for yi in C\n",
    "                if d_hamm(y, yi[1]) <= d\n",
    "                    final_dict[i] = [yi[1],yi[2]]\n",
    "                    valid = true\n",
    "                    break\n",
    "                end\n",
    "            end\n",
    "            if !valid\n",
    "                return [false,[]]\n",
    "            end\n",
    "        end\n",
    "    end\n",
    "    return [true,final_dict]\n",
    "end"
   ]
  },
  {
   "cell_type": "code",
   "execution_count": 132,
   "metadata": {},
   "outputs": [
    {
     "name": "stdout",
     "output_type": "stream",
     "text": [
      "Any[\"AAATAAAA\", \"AAAAAAAA\", \"ATAAAAAA\", \"ATTAAAAA\", \"AGAAAAAA\", \"ACAAAAAA\", \"TTAAAAAA\", \"CTAAAAAA\", \"TAAAAAAA\", \"TGAAAAAA\", \"TCAAAAAA\", \"TAAAAAAC\", \"GAAAAAAA\", \"CAAAAAAA\", \"AAAGAAAA\", \"AAACAAAA\", \"AATAAAAA\", \"AAGAAAAA\", \"AACAAAAA\", \"AAAAAAAT\", \"AAAAAAAG\", \"AAAAAAAC\", \"AAAAAATA\", \"AAAAAAGA\", \"AAAAAACA\", \"AAAAATAA\", \"AAAAAGAA\", \"AAAAACAA\", \"AAAATAAA\", \"AAAAGAAA\", \"AAAACAAA\", \"AAAAAAGC\"]\n",
      "Dict{Any,Any}(\"AAAAAACA\" => Dict{Any,Any}(2 => Any[\"AAAAAAAA\", 20],3 => Any[\"AAAAAAAA\", 6]),\"TGAAAAAA\" => Dict{Any,Any}(4 => Any[\"TAAAAAAA\", 11],2 => Any[\"TCAAAAAA\", 18]),\"AAAGAAAA\" => Dict{Any,Any}(2 => Any[\"AAAAAAAA\", 20],3 => Any[\"AAAAAAAA\", 6]),\"AAAAAAAA\" => Dict{Any,Any}(2 => Any[\"CAAAAAAA\", 19],3 => Any[\"TAAAAAAA\", 5]),\"AACAAAAA\" => Dict{Any,Any}(2 => Any[\"ATCAAAAA\", 17],3 => Any[\"AAAAAAAA\", 6]),\"TCAAAAAA\" => Dict{Any,Any}(4 => Any[\"TAAAAAAA\", 11],2 => Any[\"TCAAAAAA\", 18]),\"AAAAATAA\" => Dict{Any,Any}(2 => Any[\"AAAAAAAA\", 20],3 => Any[\"AAAAAAAA\", 6]),\"AAAACAAA\" => Dict{Any,Any}(2 => Any[\"AAAAAAAA\", 20],3 => Any[\"AAAAAAAA\", 6]),\"AAAAACAA\" => Dict{Any,Any}(2 => Any[\"AAAAAAAA\", 20],3 => Any[\"AAAAAAAA\", 6]),\"AAAAAAGC\" => Dict{Any,Any}(2 => Any[\"AAAAAAAC\", 21],3 => Any[\"AAAAAAGG\", 9]),\"AAAAGAAA\" => Dict{Any,Any}(2 => Any[\"AAAAAAAA\", 20],3 => Any[\"AAAAAAAA\", 6]),\"GAAAAAAA\" => Dict{Any,Any}(4 => Any[\"TAAAAAAA\", 11],2 => Any[\"CAAAAAAA\", 19]),\"AGAAAAAA\" => Dict{Any,Any}(2 => Any[\"AAAAAAAA\", 20],3 => Any[\"AAAAAAAA\", 6]),\"TTAAAAAA\" => Dict{Any,Any}(2 => Any[\"TCAAAAAA\", 18],3 => Any[\"TTTAAAAA\", 3]),\"AAAAAAAT\" => Dict{Any,Any}(2 => Any[\"AAAAAAAA\", 20],3 => Any[\"AAAAAAAA\", 6]),\"AAAAAATA\" => Dict{Any,Any}(2 => Any[\"AAAAAAAA\", 20],3 => Any[\"AAAAAAAA\", 6]),\"AAAATAAA\" => Dict{Any,Any}(2 => Any[\"AAAAAAAA\", 20],3 => Any[\"AAAAAAAA\", 6]),\"AAAAAAAG\" => Dict{Any,Any}(2 => Any[\"AAAAAAAA\", 20],3 => Any[\"AAAAAAAA\", 6]),\"TAAAAAAA\" => Dict{Any,Any}(4 => Any[\"TAAATAAA\", 7],2 => Any[\"TCAAAAAA\", 18]),\"TAAAAAAC\" => Dict{Any,Any}(4 => Any[\"TAAAAAAA\", 11],2 => Any[\"AAAAAAAC\", 21]),\"CAAAAAAA\" => Dict{Any,Any}(4 => Any[\"TAAAAAAA\", 11],2 => Any[\"CAAAAAAA\", 19]),\"AAACAAAA\" => Dict{Any,Any}(2 => Any[\"AAAAAAAA\", 20],3 => Any[\"AAAAAAAA\", 6]),\"AAAAAAGA\" => Dict{Any,Any}(2 => Any[\"AAAAAAAA\", 20],3 => Any[\"AAAAAAAA\", 6]),\"CTAAAAAA\" => Dict{Any,Any}(2 => Any[\"CAAAAAAA\", 19],3 => Any[\"TTAAAAAA\", 4]),\"AATAAAAA\" => Dict{Any,Any}(2 => Any[\"AAAAAAAA\", 20],3 => Any[\"AAAAAAAA\", 6]),\"AAAAAGAA\" => Dict{Any,Any}(2 => Any[\"AAAAAAAA\", 20],3 => Any[\"AAAAAAAA\", 6]),\"ATTAAAAA\" => Dict{Any,Any}(2 => Any[\"ATCAAAAA\", 17],3 => Any[\"TTTAAAAA\", 3]),\"ACAAAAAA\" => Dict{Any,Any}(2 => Any[\"TCAAAAAA\", 18],3 => Any[\"AAAAAAAA\", 6]),\"AAGAAAAA\" => Dict{Any,Any}(2 => Any[\"AAAAAAAA\", 20],3 => Any[\"AAAAAAAA\", 6]),\"AAAAAAAC\" => Dict{Any,Any}(2 => Any[\"AAAAAAAA\", 20],3 => Any[\"AAAAAAAA\", 6]),\"AAATAAAA\" => Dict{Any,Any}(2 => Any[\"AAAAAAAA\", 20],3 => Any[\"AAAAAAAA\", 6]),\"ATAAAAAA\" => Dict{Any,Any}(2 => Any[\"ATCAAAAA\", 17],3 => Any[\"TTAAAAAA\", 4]))\n"
     ]
    }
   ],
   "source": [
    "d_thres = 1\n",
    "s1 = dna[1]\n",
    "M = []\n",
    "motif_positions = Dict()\n",
    "for i in 1:length(dna[1]) - k + 1\n",
    "    x = dna[1][i:i+k-1]\n",
    "    Cxsi = get_C(x, dna, d_thres)\n",
    "    r = rand(2:t)\n",
    "    sr = dna[r]\n",
    "    Cxsr = Cxsi[r]\n",
    "    Md = Dict()\n",
    "    for xp in Cxsr\n",
    "        pair = (x, xp[1])\n",
    "        Md[pair] = []\n",
    "        get_all_md_kmers(x, xp[1], d_thres, [\"A\",\"T\",\"G\",\"C\"], \"\", k, Md[pair])\n",
    "        \n",
    "        Cpxsi = Dict()\n",
    "        for zi in 2:length(dna)\n",
    "            if zi != r\n",
    "                Cpxsi[zi] = []\n",
    "                for z in Cxsi[zi]\n",
    "                    if filter1(x, xp[1], z[1], d_thres) && filter2(x, xp[1], z[1], d_thres)\n",
    "                        push!(Cpxsi[zi], [z[1],z[2]])\n",
    "                    end\n",
    "                end\n",
    "            end\n",
    "        end\n",
    "        for y in Md[pair]\n",
    "            verification_results = verify(y, Cpxsi, r, d_thres)\n",
    "            if verification_results[1] == true\n",
    "                if !(y in M)\n",
    "                    push!(M, y)\n",
    "                    motif_positions[y] = verification_results[2]\n",
    "                end\n",
    "            end\n",
    "        end\n",
    "        \n",
    "    end\n",
    "end\n",
    "println(M)\n",
    "println(motif_positions)"
   ]
  },
  {
   "cell_type": "code",
   "execution_count": null,
   "metadata": {},
   "outputs": [],
   "source": []
  },
  {
   "cell_type": "code",
   "execution_count": null,
   "metadata": {},
   "outputs": [],
   "source": []
  },
  {
   "cell_type": "code",
   "execution_count": null,
   "metadata": {},
   "outputs": [],
   "source": []
  },
  {
   "cell_type": "code",
   "execution_count": null,
   "metadata": {},
   "outputs": [],
   "source": []
  },
  {
   "cell_type": "code",
   "execution_count": null,
   "metadata": {},
   "outputs": [],
   "source": []
  }
 ],
 "metadata": {
  "kernelspec": {
   "display_name": "Julia 1.5.1",
   "language": "julia",
   "name": "julia-1.5"
  },
  "language_info": {
   "file_extension": ".jl",
   "mimetype": "application/julia",
   "name": "julia",
   "version": "1.5.1"
  }
 },
 "nbformat": 4,
 "nbformat_minor": 4
}
