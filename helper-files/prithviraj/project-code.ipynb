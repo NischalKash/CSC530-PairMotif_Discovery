{
 "cells": [
  {
   "cell_type": "code",
   "execution_count": 4,
   "metadata": {},
   "outputs": [
    {
     "data": {
      "text/plain": [
       "R1 (generic function with 1 method)"
      ]
     },
     "execution_count": 4,
     "metadata": {},
     "output_type": "execute_result"
    }
   ],
   "source": [
    "function R1(x, x1, z, d)\n",
    "    d1 = 0\n",
    "    d2 = 0\n",
    "    for i in 1:length(z)\n",
    "        if x[i] != z[i]\n",
    "            d1 += 1\n",
    "        end\n",
    "        if x1[i] != z[i]\n",
    "            d2 += 1\n",
    "        end\n",
    "    end\n",
    "    if d1 > 2*d || d2 > 2*d\n",
    "       return false \n",
    "    end\n",
    "    return true\n",
    "end"
   ]
  },
  {
   "cell_type": "code",
   "execution_count": 13,
   "metadata": {},
   "outputs": [
    {
     "name": "stdout",
     "output_type": "stream",
     "text": [
      "true"
     ]
    }
   ],
   "source": [
    "x = \"AACAAAAA\"\n",
    "x1 = \"AAAAAACA\"\n",
    "z = \"AATAAATA\"\n",
    "print(R1(x, x1, z, 1))"
   ]
  },
  {
   "cell_type": "code",
   "execution_count": 32,
   "metadata": {},
   "outputs": [
    {
     "data": {
      "text/plain": [
       "hamming_d (generic function with 1 method)"
      ]
     },
     "execution_count": 32,
     "metadata": {},
     "output_type": "execute_result"
    }
   ],
   "source": [
    "function hamming_d(x, y)\n",
    "    d = 0\n",
    "    for i in 1:length(x)\n",
    "        if x[i] != y[i]\n",
    "            d += 1\n",
    "        end\n",
    "    end\n",
    "    return d\n",
    "end"
   ]
  },
  {
   "cell_type": "code",
   "execution_count": 70,
   "metadata": {},
   "outputs": [
    {
     "data": {
      "text/plain": [
       "verify (generic function with 1 method)"
      ]
     },
     "execution_count": 70,
     "metadata": {},
     "output_type": "execute_result"
    }
   ],
   "source": [
    "function verify(y, Cp, r, d)\n",
    "    for i in 2:length(Cp)\n",
    "        valid = false\n",
    "        if i != r\n",
    "            for j in 1:length(Cp)\n",
    "                yi = Cp[i][j]\n",
    "                if hamming_d(y, yi) <= 2*d\n",
    "                    valid = true\n",
    "                    break\n",
    "                end\n",
    "            end\n",
    "            if !valid\n",
    "                return false\n",
    "            end\n",
    "        end\n",
    "    end\n",
    "    return true\n",
    "end"
   ]
  },
  {
   "cell_type": "code",
   "execution_count": 72,
   "metadata": {},
   "outputs": [
    {
     "name": "stdout",
     "output_type": "stream",
     "text": [
      "true"
     ]
    }
   ],
   "source": [
    "y = \"AAAAAA\"\n",
    "Cp = [[\"AAAAAA\", \"AATTTT\", \"AAATTT\", \"ACCAAA\"],[\"ATAAAA\", \"AATTTT\", \"AAATTT\", \"ACCAAA\"],[\"AAAAAA\", \"AATTTT\", \"AAATTT\", \"ACCAAA\"]]\n",
    "print(verify(y, Cp, 3, 1))"
   ]
  }
 ],
 "metadata": {
  "kernelspec": {
   "display_name": "Julia 1.5.1",
   "language": "julia",
   "name": "julia-1.5"
  },
  "language_info": {
   "file_extension": ".jl",
   "mimetype": "application/julia",
   "name": "julia",
   "version": "1.5.1"
  }
 },
 "nbformat": 4,
 "nbformat_minor": 4
}
